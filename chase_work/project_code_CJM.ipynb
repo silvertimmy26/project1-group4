{
 "cells": [
  {
   "cell_type": "code",
   "execution_count": null,
   "id": "0cdf64df-8d22-4c0d-a610-269b7803afaf",
   "metadata": {},
   "outputs": [],
   "source": [
    "#Q3: Do the attributes of a song play a role in the amount of streams across platforms? (Chase). "
   ]
  },
  {
   "cell_type": "code",
   "execution_count": null,
   "id": "23d13883-2c7b-4dbc-aac3-968155f006a6",
   "metadata": {},
   "outputs": [],
   "source": [
    "# Dependencies\n",
    "import pandas as pd\n",
    "import seaborn as sns\n",
    "import matplotlib.pyplot as plt\n",
    "\n",
    "# Data Loading and Cleaning\n",
    "filepath = 'data/Spotify_Youtube.csv'\n",
    "data = pd.read_csv(filepath)\n",
    "data = data.drop(columns=['Unnamed: 0', 'Url_spotify', 'Uri', 'Url_youtube', 'Description'])\n",
    "data.info()\n",
    "custom_palette = sns.color_palette([\"#386641\", \"#BC4749\", \"#A7C957\", \"#F2E8CF\", \"#6A994E\"])\n",
    "sns.set_palette(custom_palette)"
   ]
  },
  {
   "cell_type": "code",
   "execution_count": null,
   "id": "90467602-3553-4c5d-8b25-5961960bffe0",
   "metadata": {},
   "outputs": [],
   "source": []
  }
 ],
 "metadata": {
  "kernelspec": {
   "display_name": "Python 3 (ipykernel)",
   "language": "python",
   "name": "python3"
  },
  "language_info": {
   "codemirror_mode": {
    "name": "ipython",
    "version": 3
   },
   "file_extension": ".py",
   "mimetype": "text/x-python",
   "name": "python",
   "nbconvert_exporter": "python",
   "pygments_lexer": "ipython3",
   "version": "3.10.15"
  }
 },
 "nbformat": 4,
 "nbformat_minor": 5
}
